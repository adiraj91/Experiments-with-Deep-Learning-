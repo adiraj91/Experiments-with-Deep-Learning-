{
 "cells": [
  {
   "cell_type": "markdown",
   "metadata": {},
   "source": [
    "### Script for Setting the dataset and data manipulation."
   ]
  },
  {
   "cell_type": "code",
   "execution_count": 1,
   "metadata": {},
   "outputs": [],
   "source": [
    "import pandas as pd;\n",
    "import numpy as np;\n",
    "import cv2;\n",
    "import matplotlib.pyplot as plt;\n",
    "import matplotlib;\n",
    "import os;\n",
    "from collections import Counter;\n",
    "import random; \n",
    "import time;\n",
    "\n",
    "%matplotlib inline"
   ]
  },
  {
   "cell_type": "code",
   "execution_count": 2,
   "metadata": {},
   "outputs": [],
   "source": [
    "def readData(path,directory):\n",
    "#     os.listdir('C:/Users/adity/Documents/Projects/')\n",
    "#     maindir=\"C:/Users/adity/Documents/Projects/\"\n",
    "#     trainDir=\"train\"\n",
    "    maindir=path;\n",
    "    folder=directory;\n",
    "    path=os.path.join(maindir,folder);\n",
    "    X=[];\n",
    "    y=[];\n",
    "    for p in os.listdir(path):\n",
    "        class_val=p.split(\".\")[0];\n",
    "        img_array=cv2.imread(os.path.join(path,p),cv2.IMREAD_GRAYSCALE)\n",
    "        new_img_array=cv2.resize(img_array,dsize=(80,240));\n",
    "    #     plt.imshow(new_img_array)\n",
    "        X.append(new_img_array);\n",
    "        y.append(class_val);\n",
    "    X=np.array(X).reshape(-1,80,80,3);\n",
    "    X_flatten=X.reshape(X.shape[0],-1).T\n",
    "    y_flatten=np.array(y)\n",
    "    y=y_flatten.reshape(y_flatten.shape[0],1)\n",
    "    X=X_flatten.copy()\n",
    "    print('Shape of X  ',X.shape)\n",
    "    print('Shape of y ',y.shape)\n",
    "    return {\"X\":X,\"y\":y};"
   ]
  },
  {
   "cell_type": "code",
   "execution_count": 3,
   "metadata": {},
   "outputs": [
    {
     "name": "stdout",
     "output_type": "stream",
     "text": [
      "Shape of X   (19200, 25000)\n",
      "Shape of y  (25000, 1)\n"
     ]
    }
   ],
   "source": [
    "elements=readData(\"C:/Users/adity/Documents/Projects/\",\"train\")"
   ]
  },
  {
   "cell_type": "code",
   "execution_count": 8,
   "metadata": {},
   "outputs": [],
   "source": [
    "def DataManipulation(elements):\n",
    "    X_train=elements['X'];\n",
    "    y_train=elements['y'];\n",
    "    #Splitting the data into training and validation portions \n",
    "    X_train=X_train/255.\n",
    "    data=pd.DataFrame(X_train).T\n",
    "    data.shape\n",
    "    data['Class']=y_train\n",
    "    data_cat=data[data['Class']=='cat'].reset_index()\n",
    "    data_dog=data[data['Class']=='dog'].reset_index()\n",
    "    indices=random.sample(range(12500),12500)\n",
    "    data_cat_train=data_cat.iloc[indices[:11250],:]\n",
    "    data_cat_validation=data_cat.iloc[indices[11250:],:]\n",
    "    data_dog_train=data_dog.iloc[indices[:11250],:]\n",
    "    data_dog_validation=data_dog.iloc[indices[11250:],:]\n",
    "\n",
    "    # data_cat_train.shape\n",
    "    data_train=pd.concat([data_cat_train,data_dog_train])\n",
    "    data_validation=pd.concat([data_cat_validation,data_dog_validation])\n",
    "\n",
    "    data_train=data_train.reset_index().iloc[:,1:]\n",
    "    data_train['NUM_CLASS']=0\n",
    "    data_train.loc[data_train['Class']=='cat','NUM_CLASS']=1\n",
    "    data_train=data_train.drop(['Class','index'],axis=1)\n",
    "    data_train=data_train.T\n",
    "    data_validation=data_validation.reset_index().iloc[:,1:]\n",
    "    data_validation['NUM_CLASS']=0\n",
    "    data_validation.loc[data_validation['Class']=='cat','NUM_CLASS']=1\n",
    "    data_validation=data_validation.drop(['Class','index'],axis=1)\n",
    "    data_validation=data_validation.T\n",
    "\n",
    "#     print('Data Train Shape',data_train.shape)\n",
    "#     print('Data Validation Shape',data_validation.shape)\n",
    "    X_train=data_train.T.iloc[:,:-1].T.to_numpy()\n",
    "    Y_train=data_train.T.iloc[:,-1].to_numpy()\n",
    "    Y_train=Y_train.reshape((1,Y_train.shape[0]))\n",
    "#     print('X train shape ',X_train.shape)\n",
    "#     print('X train shape ',Y_train.shape)\n",
    "    X_validation=data_validation.T.iloc[:,:-1].T.to_numpy()\n",
    "    Y_validation=data_validation.T.iloc[:,-1].to_numpy()\n",
    "    Y_validation=Y_validation.reshape((1,Y_validation.shape[0]))\n",
    "#     print('X validation shape ',X_validation.shape)\n",
    "#     print('X validation shape ',Y_validation.shape)\n",
    "    X_train=data_train.T.iloc[:,:-1].T.to_numpy()\n",
    "    Y_train=data_train.T.iloc[:,-1].to_numpy()\n",
    "    Y_train=Y_train.reshape((1,Y_train.shape[0]))\n",
    "#     print('X train shape ',X_train.shape)\n",
    "#     print('X train shape ',Y_train.shape)\n",
    "    X_validation=data_validation.T.iloc[:,:-1].T.to_numpy()\n",
    "    Y_validation=data_validation.T.iloc[:,-1].to_numpy()\n",
    "    Y_validation=Y_validation.reshape((1,Y_validation.shape[0]))\n",
    "#     print('X validation shape ',X_validation.shape)\n",
    "#     print('X validation shape ',Y_validation.shape)\n",
    "    return {'X_train':X_train,'Y_train':Y_train,'X_validation':X_validation,'Y_validation':Y_validation};\n",
    "    \n",
    "    "
   ]
  },
  {
   "cell_type": "code",
   "execution_count": 9,
   "metadata": {},
   "outputs": [],
   "source": [
    "output_elements=DataManipulation(elements)"
   ]
  },
  {
   "cell_type": "code",
   "execution_count": null,
   "metadata": {},
   "outputs": [],
   "source": []
  }
 ],
 "metadata": {
  "kernelspec": {
   "display_name": "Python 3",
   "language": "python",
   "name": "python3"
  },
  "language_info": {
   "codemirror_mode": {
    "name": "ipython",
    "version": 3
   },
   "file_extension": ".py",
   "mimetype": "text/x-python",
   "name": "python",
   "nbconvert_exporter": "python",
   "pygments_lexer": "ipython3",
   "version": "3.8.3"
  }
 },
 "nbformat": 4,
 "nbformat_minor": 4
}
